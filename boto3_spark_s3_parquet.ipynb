{
 "cells": [
  {
   "cell_type": "code",
   "execution_count": null,
   "metadata": {},
   "outputs": [],
   "source": [
    "import boto3 \n",
    "s3 = boto3.resource(\"s3\")\n",
    "instacart = s3.Bucket(\"instacart-techfield\")\n",
    "for files in instacart.objects.all():\n",
    "    print files.key\n"
   ]
  },
  {
   "cell_type": "code",
   "execution_count": null,
   "metadata": {},
   "outputs": [],
   "source": [
    "bucket = \"instacart-techfield\"\n",
    "# key = 'instacart_parquet/aisles.parquet'\n",
    "key = 'aisles.csv'\n",
    "s3Client = boto3.client('s3')\n",
    "aisles_url = s3Client.generate_presigned_url('get_object', Params = {'Bucket': bucket, 'Key': key}, ExpiresIn = 100)\n",
    "print aisles_url"
   ]
  },
  {
   "cell_type": "code",
   "execution_count": 1,
   "metadata": {},
   "outputs": [],
   "source": [
    "import findspark \n",
    "findspark.init() \n",
    "\n",
    "import os\n",
    "os.environ['PYSPARK_SUBMIT_ARGS'] = '--packages com.amazonaws:aws-java-sdk:1.10.34,org.apache.hadoop:hadoop-aws:2.6.0 pyspark-shell'\n",
    "AWS_ACCESS_KEY=os.environ[\"AWS_ACCESS_KEY\"]\n",
    "AWS_SECRET_KEY=os.environ[\"AWS_SECRET_KEY\"]\n",
    "\n",
    "import pyspark\n",
    "sc = pyspark.SparkContext(\"local[*]\").getOrCreate()\n",
    "\n",
    "from pyspark.sql import SQLContext\n",
    "sqlContext = SQLContext(sc)\n",
    "\n",
    "hadoopConf = sc._jsc.hadoopConfiguration()\n",
    "hadoopConf.set(\"fs.s3.impl\", \"org.apache.hadoop.fs.s3native.NativeS3FileSystem\")\n",
    "hadoopConf.set(\"fs.s3.awsAccessKeyId\", AWS_ACCESS_KEY)\n",
    "hadoopConf.set(\"fs.s3.awsSecretAccessKey\", AWS_SECRET_KEY)\n",
    "\n",
    "aisles = sqlContext.read.parquet(\"s3://instacart-techfield/instacart_parquet/aisles.parquet\")\n",
    "departments = sqlContext.read.parquet(\"s3://instacart-techfield/instacart_parquet/departments.parquet\")\n",
    "order_products__prior = sqlContext.read.parquet(\"s3://instacart-techfield/instacart_parquet/order_products__prior.parquet\")\n",
    "order_products__train = sqlContext.read.parquet(\"s3://instacart-techfield/instacart_parquet/order_products__train.parquet\")\n",
    "orders = sqlContext.read.parquet(\"s3://instacart-techfield/instacart_parquet/orders.parquet\")\n",
    "products = sqlContext.read.parquet(\"s3://instacart-techfield/instacart_parquet/products.parquet\")\n",
    "sample_submission = sqlContext.read.parquet(\"s3://instacart-techfield/instacart_parquet/sample_submission.parquet\")\n"
   ]
  },
  {
   "cell_type": "code",
   "execution_count": null,
   "metadata": {},
   "outputs": [],
   "source": [
    "aisles.printSchema()"
   ]
  },
  {
   "cell_type": "code",
   "execution_count": null,
   "metadata": {},
   "outputs": [],
   "source": [
    "aisles.count()"
   ]
  },
  {
   "cell_type": "code",
   "execution_count": 3,
   "metadata": {},
   "outputs": [
    {
     "data": {
      "text/plain": [
       "(21, 3779433, 239959, 446178, 49688)"
      ]
     },
     "execution_count": 3,
     "metadata": {},
     "output_type": "execute_result"
    }
   ],
   "source": [
    "departments.count(), order_products__prior.count(), order_products__train.count(), orders.count(), products.count(), "
   ]
  },
  {
   "cell_type": "code",
   "execution_count": null,
   "metadata": {},
   "outputs": [],
   "source": []
  }
 ],
 "metadata": {
  "kernelspec": {
   "display_name": "jupyter2_Python_2",
   "language": "python",
   "name": "jupyter2_python_2"
  },
  "language_info": {
   "codemirror_mode": {
    "name": "ipython",
    "version": 2
   },
   "file_extension": ".py",
   "mimetype": "text/x-python",
   "name": "python",
   "nbconvert_exporter": "python",
   "pygments_lexer": "ipython2",
   "version": "2.7.14"
  }
 },
 "nbformat": 4,
 "nbformat_minor": 2
}
