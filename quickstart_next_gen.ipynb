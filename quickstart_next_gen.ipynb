{
 "cells": [
  {
   "cell_type": "code",
   "execution_count": 2,
   "metadata": {},
   "outputs": [
    {
     "name": "stdout",
     "output_type": "stream",
     "text": [
      "aws-logs-310825673272-us-east-1\n",
      "elasticbeanstalk-us-east-1-310825673272\n",
      "hadoop-techfield-training\n",
      "instacart-techfield\n",
      "pro-jeff\n",
      "udacity-hadoop-mapreduce\n"
     ]
    }
   ],
   "source": [
    "import boto3\n",
    "s3 = boto3.resource(\"s3\")\n",
    "for buckets in s3.buckets.all():\n",
    "    print buckets.name"
   ]
  },
  {
   "cell_type": "code",
   "execution_count": 3,
   "metadata": {},
   "outputs": [
    {
     "name": "stdout",
     "output_type": "stream",
     "text": [
      "aisles.csv\n",
      "departments.csv\n",
      "order_products__prior.csv\n",
      "order_products__train.csv\n",
      "orders.csv\n",
      "products.csv\n",
      "sample_submission.csv\n"
     ]
    }
   ],
   "source": [
    "instacart = s3.Bucket(\"instacart-techfield\")\n",
    "for files in instacart.objects.all():\n",
    "    print files.key"
   ]
  },
  {
   "cell_type": "code",
   "execution_count": 4,
   "metadata": {},
   "outputs": [],
   "source": [
    "s3_client = boto3.client('s3')\n",
    "open('hello.txt', 'w+b').write('Hello, world!')\n",
    "\n",
    "\n"
   ]
  },
  {
   "cell_type": "code",
   "execution_count": 5,
   "metadata": {},
   "outputs": [],
   "source": [
    "# Upload the file to S3 keyname, bucket-name, file-name\n",
    "s3_client.upload_file('hello.txt', 'instacart-techfield', 'hello-remote.txt')"
   ]
  },
  {
   "cell_type": "code",
   "execution_count": 6,
   "metadata": {},
   "outputs": [
    {
     "data": {
      "text/plain": [
       "{'ResponseMetadata': {'HTTPHeaders': {'date': 'Fri, 27 Oct 2017 02:25:01 GMT',\n",
       "   'server': 'AmazonS3',\n",
       "   'x-amz-id-2': 'cHDvCdRhmgSMkczC3Id+n3bwFtHr5Xy+j+GlQjk32QUQ6Kojgl2DN0jnew1qRK6NvLabb6GIl0E=',\n",
       "   'x-amz-request-id': 'C04F2CB03AAAAF56'},\n",
       "  'HTTPStatusCode': 204,\n",
       "  'HostId': 'cHDvCdRhmgSMkczC3Id+n3bwFtHr5Xy+j+GlQjk32QUQ6Kojgl2DN0jnew1qRK6NvLabb6GIl0E=',\n",
       "  'RequestId': 'C04F2CB03AAAAF56',\n",
       "  'RetryAttempts': 0}}"
      ]
     },
     "execution_count": 6,
     "metadata": {},
     "output_type": "execute_result"
    }
   ],
   "source": [
    "s3_client.delete_object(Bucket='instacart-techfield', Key='hello-remote.txt')"
   ]
  },
  {
   "cell_type": "code",
   "execution_count": 7,
   "metadata": {},
   "outputs": [],
   "source": [
    "import findspark \n",
    "findspark.init()\n",
    "from pyspark import SparkContext, SQLContext\n",
    "sc = SparkContext.getOrCreate() \n",
    "sqlContext = SQLContext(sc) \n",
    "\n"
   ]
  },
  {
   "cell_type": "code",
   "execution_count": 8,
   "metadata": {},
   "outputs": [],
   "source": [
    "import boto3\n",
    "s3 = boto3.client('s3')\n",
    "aisles = s3.get_object(Bucket='instacart-techfield', Key='aisles.csv')"
   ]
  },
  {
   "cell_type": "code",
   "execution_count": 9,
   "metadata": {},
   "outputs": [],
   "source": [
    "import pandas as pd\n",
    "import io\n",
    "df = pd.read_csv(io.BytesIO(aisles['Body'].read()), encoding='utf8')\n"
   ]
  },
  {
   "cell_type": "code",
   "execution_count": 10,
   "metadata": {},
   "outputs": [],
   "source": [
    "s_df = sqlContext.createDataFrame(df)"
   ]
  },
  {
   "cell_type": "code",
   "execution_count": 11,
   "metadata": {},
   "outputs": [
    {
     "name": "stdout",
     "output_type": "stream",
     "text": [
      "root\n",
      " |-- aisle_id: long (nullable = true)\n",
      " |-- aisle: string (nullable = true)\n",
      "\n"
     ]
    }
   ],
   "source": [
    "s_df.printSchema()"
   ]
  },
  {
   "cell_type": "code",
   "execution_count": 12,
   "metadata": {},
   "outputs": [
    {
     "name": "stdout",
     "output_type": "stream",
     "text": [
      "+--------+--------------------+\n",
      "|aisle_id|               aisle|\n",
      "+--------+--------------------+\n",
      "|       1|prepared soups sa...|\n",
      "|       2|   specialty cheeses|\n",
      "+--------+--------------------+\n",
      "only showing top 2 rows\n",
      "\n"
     ]
    }
   ],
   "source": [
    "s_df.show(2,truncate= True)"
   ]
  },
  {
   "cell_type": "code",
   "execution_count": 13,
   "metadata": {},
   "outputs": [
    {
     "data": {
      "text/plain": [
       "134"
      ]
     },
     "execution_count": 13,
     "metadata": {},
     "output_type": "execute_result"
    }
   ],
   "source": [
    "s_df.count()"
   ]
  },
  {
   "cell_type": "code",
   "execution_count": 14,
   "metadata": {},
   "outputs": [
    {
     "data": {
      "text/plain": [
       "(2, ['aisle_id', 'aisle'])"
      ]
     },
     "execution_count": 14,
     "metadata": {},
     "output_type": "execute_result"
    }
   ],
   "source": [
    "len(s_df.columns), s_df.columns"
   ]
  },
  {
   "cell_type": "code",
   "execution_count": 15,
   "metadata": {},
   "outputs": [
    {
     "name": "stdout",
     "output_type": "stream",
     "text": [
      "+-------+-----------------+--------------------+\n",
      "|summary|         aisle_id|               aisle|\n",
      "+-------+-----------------+--------------------+\n",
      "|  count|              134|                 134|\n",
      "|   mean|             67.5|                null|\n",
      "| stddev|38.82653731663435|                null|\n",
      "|    min|                1|air fresheners ca...|\n",
      "|    max|              134|              yogurt|\n",
      "+-------+-----------------+--------------------+\n",
      "\n"
     ]
    }
   ],
   "source": [
    "s_df.describe().show()"
   ]
  },
  {
   "cell_type": "code",
   "execution_count": 16,
   "metadata": {},
   "outputs": [
    {
     "name": "stdout",
     "output_type": "stream",
     "text": [
      "+-------+-----------------+\n",
      "|summary|         aisle_id|\n",
      "+-------+-----------------+\n",
      "|  count|              134|\n",
      "|   mean|             67.5|\n",
      "| stddev|38.82653731663435|\n",
      "|    min|                1|\n",
      "|    max|              134|\n",
      "+-------+-----------------+\n",
      "\n"
     ]
    }
   ],
   "source": [
    "s_df.describe(\"aisle_id\").show()"
   ]
  },
  {
   "cell_type": "code",
   "execution_count": 17,
   "metadata": {},
   "outputs": [
    {
     "name": "stdout",
     "output_type": "stream",
     "text": [
      "+--------------------+\n",
      "|               aisle|\n",
      "+--------------------+\n",
      "|prepared soups sa...|\n",
      "|   specialty cheeses|\n",
      "| energy granola bars|\n",
      "|       instant foods|\n",
      "|marinades meat pr...|\n",
      "+--------------------+\n",
      "only showing top 5 rows\n",
      "\n"
     ]
    }
   ],
   "source": [
    "s_df.select(\"aisle\").show(5)"
   ]
  },
  {
   "cell_type": "code",
   "execution_count": 18,
   "metadata": {},
   "outputs": [
    {
     "data": {
      "text/plain": [
       "(20, 23)"
      ]
     },
     "execution_count": 18,
     "metadata": {},
     "output_type": "execute_result"
    }
   ],
   "source": [
    "t1 = s_df.sample(False, 0.2, 42)\n",
    "t2 = s_df.sample(True, 0.2, 41)\n",
    "t1.count(),t2.count()"
   ]
  },
  {
   "cell_type": "code",
   "execution_count": 19,
   "metadata": {},
   "outputs": [
    {
     "data": {
      "text/plain": [
       "[(Row(aisle_id=1), 1),\n",
       " (Row(aisle_id=2), 1),\n",
       " (Row(aisle_id=3), 1),\n",
       " (Row(aisle_id=4), 1),\n",
       " (Row(aisle_id=5), 1)]"
      ]
     },
     "execution_count": 19,
     "metadata": {},
     "output_type": "execute_result"
    }
   ],
   "source": [
    "s_df.select('aisle_id').rdd.map(lambda x:(x,1)).take(5)\n"
   ]
  },
  {
   "cell_type": "code",
   "execution_count": 38,
   "metadata": {},
   "outputs": [
    {
     "name": "stdout",
     "output_type": "stream",
     "text": [
      "+--------+--------------------+\n",
      "|aisle_id|               aisle|\n",
      "+--------+--------------------+\n",
      "|     120|              yogurt|\n",
      "|      62|         white wines|\n",
      "|     115|water seltzer spa...|\n",
      "|      47|vitamins supplements|\n",
      "|      60|   trash bags liners|\n",
      "+--------+--------------------+\n",
      "only showing top 5 rows\n",
      "\n"
     ]
    }
   ],
   "source": [
    "s_df.orderBy(s_df.aisle.desc()).show(5)\n",
    "# train.orderBy(train.Purchase.desc()).show(5)"
   ]
  },
  {
   "cell_type": "code",
   "execution_count": 42,
   "metadata": {},
   "outputs": [
    {
     "name": "stdout",
     "output_type": "stream",
     "text": [
      "+--------------------+--------------------+\n",
      "|               aisle|    Upper_Case_Aisle|\n",
      "+--------------------+--------------------+\n",
      "|prepared soups sa...|prepared soups sa...|\n",
      "|   specialty cheeses|   specialty cheeses|\n",
      "| energy granola bars| energy granola bars|\n",
      "|       instant foods|       instant foods|\n",
      "|marinades meat pr...|marinades meat pr...|\n",
      "+--------------------+--------------------+\n",
      "only showing top 5 rows\n",
      "\n"
     ]
    }
   ],
   "source": [
    "s_df.withColumn('Upper_Case_Aisle', s_df.aisle).select('aisle', 'Upper_Case_Aisle').show(5)"
   ]
  },
  {
   "cell_type": "code",
   "execution_count": 49,
   "metadata": {},
   "outputs": [],
   "source": [
    "s_df.registerTempTable('aisle')"
   ]
  },
  {
   "cell_type": "code",
   "execution_count": 51,
   "metadata": {},
   "outputs": [
    {
     "name": "stdout",
     "output_type": "stream",
     "text": [
      "+--------+--------------------+\n",
      "|aisle_id|               aisle|\n",
      "+--------+--------------------+\n",
      "|       1|prepared soups sa...|\n",
      "|       2|   specialty cheeses|\n",
      "|       3| energy granola bars|\n",
      "|       4|       instant foods|\n",
      "|       5|marinades meat pr...|\n",
      "+--------+--------------------+\n",
      "only showing top 5 rows\n",
      "\n"
     ]
    }
   ],
   "source": [
    "sqlContext.sql('select * from aisle').show(5)"
   ]
  },
  {
   "cell_type": "code",
   "execution_count": null,
   "metadata": {},
   "outputs": [],
   "source": []
  }
 ],
 "metadata": {
  "kernelspec": {
   "display_name": "jupyter2_Python_2",
   "language": "python",
   "name": "jupyter2_python_2"
  },
  "language_info": {
   "codemirror_mode": {
    "name": "ipython",
    "version": 2
   },
   "file_extension": ".py",
   "mimetype": "text/x-python",
   "name": "python",
   "nbconvert_exporter": "python",
   "pygments_lexer": "ipython2",
   "version": "2.7.14"
  }
 },
 "nbformat": 4,
 "nbformat_minor": 2
}
