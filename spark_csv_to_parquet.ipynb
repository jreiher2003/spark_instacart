{
 "cells": [
  {
   "cell_type": "code",
   "execution_count": 1,
   "metadata": {},
   "outputs": [],
   "source": [
    "# make a dir if it doesn't already exsist\n",
    "import os\n",
    "directory = \"instacart_csv\"\n",
    "if not os.path.exists(directory):\n",
    "    os.makedirs(directory)\n",
    "os.chdir(directory)\n"
   ]
  },
  {
   "cell_type": "code",
   "execution_count": 2,
   "metadata": {},
   "outputs": [],
   "source": [
    "import boto3\n",
    "import botocore\n",
    "\n",
    "BUCKET_NAME = 'instacart-techfield' # replace with your bucket name\n",
    "A = 'aisles.csv' # replace with your object key\n",
    "B = \"departments.csv\"\n",
    "C = 'order_products__prior.csv'\n",
    "D = 'order_products__train.csv'\n",
    "E = 'orders.csv'\n",
    "F = 'products.csv'\n",
    "G = 'sample_submission.csv'\n",
    "s3 = boto3.resource('s3')\n",
    "\n",
    "try:\n",
    "    s3.Bucket(BUCKET_NAME).download_file(A, 'aisles.csv')\n",
    "    s3.Bucket(BUCKET_NAME).download_file(B, \"departments.csv\")\n",
    "    s3.Bucket(BUCKET_NAME).download_file(C, 'order_products__prior.csv')\n",
    "    s3.Bucket(BUCKET_NAME).download_file(D, 'order_products__train.csv')\n",
    "    s3.Bucket(BUCKET_NAME).download_file(E, 'orders.csv')\n",
    "    s3.Bucket(BUCKET_NAME).download_file(F, 'products.csv')\n",
    "    s3.Bucket(BUCKET_NAME).download_file(G, 'sample_submission.csv')\n",
    "except botocore.exceptions.ClientError as e:\n",
    "    if e.response['Error']['Code'] == \"404\":\n",
    "        print(\"The object does not exist.\")\n",
    "    else:\n",
    "        raise"
   ]
  },
  {
   "cell_type": "code",
   "execution_count": 3,
   "metadata": {},
   "outputs": [],
   "source": [
    "import findspark\n",
    "findspark.init()\n",
    "from pyspark import SparkContext\n",
    "from pyspark.sql import SQLContext\n",
    "from pyspark.sql import SparkSession\n",
    "from pyspark.sql.types import *\n",
    "\n",
    "os.chdir(\"/home/ubuntu/\")\n",
    "\n",
    "spark = SparkSession.builder \\\n",
    "    .appName (\"Convert into Parquet\") \\\n",
    "    .config(\"spark.some.config.option\", \"some-value\") \\\n",
    "    .getOrCreate()\n",
    "      \n",
    "a = spark.read.load(\"/home/ubuntu/instacart_csv/aisles.csv\", format=\"csv\", header=True)\n",
    "a.write.save(\"instacart_parquet/aisles.parquet\", format=\"parquet\")\n",
    "\n",
    "b = spark.read.load(\"/home/ubuntu/instacart_csv/departments.csv\", format=\"csv\", header=True)\n",
    "b.write.save(\"instacart_parquet/departments.parquet\", format=\"parquet\")\n",
    "\n",
    "c = spark.read.load(\"/home/ubuntu/instacart_csv/order_products__prior.csv\", format=\"csv\", header=True)\n",
    "c.write.save(\"instacart_parquet/order_products__prior.parquet\", format=\"parquet\")\n",
    "\n",
    "d = spark.read.load(\"/home/ubuntu/instacart_csv/order_products__train.csv\", format=\"csv\", header=True)\n",
    "d.write.save(\"instacart_parquet/order_products__train.parquet\", format=\"parquet\")\n",
    "\n",
    "e = spark.read.load(\"/home/ubuntu/instacart_csv/orders.csv\", format=\"csv\", header=True)\n",
    "e.write.save(\"instacart_parquet/orders.parquet\", format=\"parquet\")\n",
    "\n",
    "f = spark.read.load(\"/home/ubuntu/instacart_csv/products.csv\", format=\"csv\", header=True)\n",
    "f.write.save(\"instacart_parquet/products.parquet\", format=\"parquet\")\n",
    "\n",
    "g = spark.read.load(\"/home/ubuntu/instacart_csv/sample_submission.csv\", format=\"csv\", header=True)\n",
    "g.write.save(\"instacart_parquet/sample_submission.parquet\", format=\"parquet\")\n",
    "    \n"
   ]
  },
  {
   "cell_type": "code",
   "execution_count": 4,
   "metadata": {},
   "outputs": [],
   "source": [
    "a = spark.read.load(\"/home/ubuntu/instacart_parquet/aisles.parquet/*.parquet\", format=\"parquet\")\n",
    "b = spark.read.load(\"/home/ubuntu/instacart_parquet/departments.parquet/*.parquet\", format=\"parquet\")\n",
    "c = spark.read.load(\"/home/ubuntu/instacart_parquet/order_products__prior.parquet/*.parquet\", format=\"parquet\")\n",
    "d = spark.read.load(\"/home/ubuntu/instacart_parquet/order_products__train.parquet/*.parquet\", format=\"parquet\")\n",
    "e = spark.read.load(\"/home/ubuntu/instacart_parquet/orders.parquet/*.parquet\", format=\"parquet\")\n",
    "f = spark.read.load(\"/home/ubuntu/instacart_parquet/products.parquet/*.parquet\", format=\"parquet\")\n",
    "g = spark.read.load(\"/home/ubuntu/instacart_parquet/sample_submission.parquet/*.parquet\", format=\"parquet\")\n",
    "\n"
   ]
  },
  {
   "cell_type": "code",
   "execution_count": 5,
   "metadata": {},
   "outputs": [],
   "source": [
    "import os, fnmatch\n",
    "def find(pattern, path):\n",
    "    result = []\n",
    "    for root, dirs, files in os.walk(path):\n",
    "        for name in files:\n",
    "            if fnmatch.fnmatch(name, pattern):\n",
    "                result.append(os.path.join(root, name))\n",
    "    return result\n",
    "\n",
    "aisles_path = find('*.parquet', '/home/ubuntu/instacart_parquet/aisles.parquet')[0]\n",
    "departments_path = find('*.parquet', '/home/ubuntu/instacart_parquet/departments.parquet')[0]\n",
    "order_products__prior_path = find('*.parquet', '/home/ubuntu/instacart_parquet/order_products__prior.parquet')[0]\n",
    "order_products__train_path = find('*.parquet', '/home/ubuntu/instacart_parquet/order_products__train.parquet')[0]\n",
    "orders_path = find('*.parquet', '/home/ubuntu/instacart_parquet/orders.parquet')[0]\n",
    "products_path = find('*.parquet', '/home/ubuntu/instacart_parquet/products.parquet')[0]\n",
    "sample_submission_path = find('*.parquet', '/home/ubuntu/instacart_parquet/aisles.parquet')[0]"
   ]
  },
  {
   "cell_type": "code",
   "execution_count": 6,
   "metadata": {},
   "outputs": [],
   "source": [
    "import boto3\n",
    "s3_client = boto3.client('s3')\n",
    "s3_client.upload_file(aisles_path, 'instacart-techfield', 'instacart_parquet/aisles.parquet')\n",
    "s3_client.upload_file(departments_path, 'instacart-techfield', 'instacart_parquet/departments.parquet')\n",
    "s3_client.upload_file(order_products__prior_path, 'instacart-techfield', 'instacart_parquet/order_products__prior.parquet')\n",
    "s3_client.upload_file(order_products__train_path, 'instacart-techfield', 'instacart_parquet/order_products__train.parquet')\n",
    "s3_client.upload_file(orders_path, 'instacart-techfield', 'instacart_parquet/orders.parquet')\n",
    "s3_client.upload_file(products_path, 'instacart-techfield', 'instacart_parquet/products.parquet')\n",
    "s3_client.upload_file(sample_submission_path, 'instacart-techfield', 'instacart_parquet/sample_submission.parquet')"
   ]
  },
  {
   "cell_type": "code",
   "execution_count": null,
   "metadata": {},
   "outputs": [],
   "source": []
  }
 ],
 "metadata": {
  "kernelspec": {
   "display_name": "jupyter2_Python_2",
   "language": "python",
   "name": "jupyter2_python_2"
  },
  "language_info": {
   "codemirror_mode": {
    "name": "ipython",
    "version": 2
   },
   "file_extension": ".py",
   "mimetype": "text/x-python",
   "name": "python",
   "nbconvert_exporter": "python",
   "pygments_lexer": "ipython2",
   "version": "2.7.14"
  }
 },
 "nbformat": 4,
 "nbformat_minor": 2
}
